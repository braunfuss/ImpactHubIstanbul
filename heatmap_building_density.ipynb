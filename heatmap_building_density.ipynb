{
  "nbformat": 4,
  "nbformat_minor": 0,
  "metadata": {
    "kernelspec": {
      "name": "python3",
      "display_name": "Python 3"
    },
    "language_info": {
      "codemirror_mode": {
        "name": "ipython",
        "version": 3
      },
      "file_extension": ".py",
      "mimetype": "text/x-python",
      "name": "python",
      "nbconvert_exporter": "python",
      "pygments_lexer": "ipython3",
      "version": "3.7.3"
    },
    "colab": {
      "name": "heatmap_building_density.ipynb",
      "provenance": [],
      "collapsed_sections": []
    },
    "accelerator": "GPU"
  },
  "cells": [
    {
      "cell_type": "markdown",
      "metadata": {
        "id": "BJqsxqFM13wI",
        "colab_type": "text"
      },
      "source": [
        "[![Open In Colab](https://colab.research.google.com/assets/colab-badge.svg)](https://colab.research.google.com/github/googlecolab/colabtools/blob/master/notebooks/colab-github-demo.ipynb)"
      ]
    },
    {
      "cell_type": "code",
      "metadata": {
        "id": "ri74jlOMTMpk",
        "colab_type": "code",
        "outputId": "eb66e32e-540b-4d51-f808-dce6cfefc1db",
        "colab": {
          "base_uri": "https://localhost:8080/",
          "height": 34
        }
      },
      "source": [
        "#run this once\n",
        "import os, IPython\n",
        "os.system(\"apt-get install -qq curl g++ make; curl -L http://download.osgeo.org/libspatialindex/spatialindex-src-1.8.5.tar.gz | tar xz\")\n",
        "os.chdir('spatialindex-src-1.8.5')\n",
        "os.system(\"./configure; make; make install; pip install rtree ;ldconfig\")\n",
        "os.chdir('/content')\n",
        "os.system('apt-get update; apt-get install -y libproj-dev proj-data proj-bin libgeos-dev libspatialindex-dev')\n",
        "os.system('pip install pysal cython cartopy geoplot geopandas osmnx coverage coveralls folium pytest scikit-learn scipy sphinx twine  descartes Shapely')\n",
        "os.system(\"wget -O /usr/local/lib/python3.6/dist-packages/osmnx/footprints.py https://raw.githubusercontent.com/gboeing/osmnx/master/osmnx/footprints.py\")"
      ],
      "execution_count": 1,
      "outputs": [
        {
          "output_type": "execute_result",
          "data": {
            "text/plain": [
              "0"
            ]
          },
          "metadata": {
            "tags": []
          },
          "execution_count": 1
        }
      ]
    },
    {
      "cell_type": "code",
      "metadata": {
        "id": "QkcECin7p-Y6",
        "colab_type": "code",
        "colab": {}
      },
      "source": [
        "import networkx as nx\n",
        "import osmnx as ox\n",
        "import geopandas as gpd\n",
        "import numpy as np\n",
        "import matplotlib.pyplot as plt\n",
        "import math\n",
        "from IPython.display import Image\n",
        "import seaborn as sns\n",
        "import pandas as pd\n",
        "import folium\n",
        "from folium import plugins"
      ],
      "execution_count": 0,
      "outputs": []
    },
    {
      "cell_type": "code",
      "metadata": {
        "id": "3kRR325RsVs7",
        "colab_type": "code",
        "colab": {}
      },
      "source": [
        "#finds number of buildings present inside the radius of the coordinate\n",
        "def calculate_intensity(coord_map, radius):\n",
        "\n",
        "  print(coord_map.shape)\n",
        "  \n",
        "  num = 0\n",
        "  lat_list = list()\n",
        "  long_list = list()\n",
        "  density_list = list()\n",
        "  heatmap = np.zeros((coord_map.shape[0], coord_map.shape[1]))\n",
        "  for row_index in range(coord_map.shape[0]):\n",
        "\n",
        "    row = coord_map[row_index]\n",
        "    for col_index in range(coord_map.shape[1]):\n",
        "      num += 1\n",
        "      print(num)\n",
        "      try:\n",
        "        point = row[col_index]\n",
        "        gdf = ox.footprints.footprints_from_point(np.array(point), distance = radius, footprint_type = 'building')\n",
        "        proj = ox.project_gdf(gdf)\n",
        "        \n",
        "        #this logic will be improved later\n",
        "        #num of buildings can be made into categorical value while building the model.\n",
        "        num_buildings = proj.shape[0]\n",
        "        heatmap[row_index, col_index] = num_buildings\n",
        "        lat_list.append(point[0])\n",
        "        long_list.append(point[1])\n",
        "        density_list.append(num_buildings)\n",
        "      except:\n",
        "        pass\n",
        "  density_df = pd.DataFrame(columns = ['latitude', 'longitude', 'density'])\n",
        "  density_df['latitude'] = lat_list\n",
        "  density_df['longitude'] = long_list\n",
        "  density_df['density'] = density_list\n",
        "  return heatmap, density_df"
      ],
      "execution_count": 0,
      "outputs": []
    },
    {
      "cell_type": "code",
      "metadata": {
        "id": "kDea5IIO1FXn",
        "colab_type": "code",
        "colab": {}
      },
      "source": [
        "#distance between pair of lat long coordinates\n",
        "def distance(p1, p2):\n",
        "  lat_1 = (p1[0]) * math.pi / 180.0\n",
        "  lat_2 = (p2[0]) * math.pi / 180.0\n",
        "  lat_diff = lat_1 - lat_2\n",
        "  long_diff = (p1[1] - p2[1]) * math.pi / 180.0\n",
        "\n",
        "  a = math.pow(math.sin(lat_diff / 2), 2) + math.pow(math.sin(long_diff / 2), 2) + math.cos(lat_1) * math.cos(lat_2)\n",
        "  rad = 6371\n",
        "  return rad * math.asin(math.sqrt(a)) * 2"
      ],
      "execution_count": 0,
      "outputs": []
    },
    {
      "cell_type": "code",
      "metadata": {
        "id": "BQDJKiqsaCAb",
        "colab_type": "code",
        "colab": {}
      },
      "source": [
        "def get_heatmap(tl_coord, br_coord, grid_size, radius_mtr):\n",
        "  '''\n",
        "  tl_coord  coordinate of top left corner.\n",
        "  br_coord  coordinate of bottom left corner.\n",
        "  grid_size number of intermediate (lat, long) around which density is calculated.\n",
        "  radius_mtr  number of buildings which lies inside the given radius(meters) around a point are considered.\n",
        "  '''\n",
        "  coord_map = np.zeros((grid_size[0], grid_size[1], 2))#stores all the intermediate coordinates for the given rectangle boundary\n",
        "  tr_coord = (br_coord[0], tl_coord[1])\n",
        "  bl_coord = (tl_coord[0], br_coord[1])\n",
        "\n",
        "  #dist_x = distance(tl_coord, tr_coord)\n",
        "  #dist_y = distance(tl_coord, bl_coord)\n",
        "  step_x = (tl_coord[0] - tr_coord[0]) / grid_size[0]\n",
        "  step_y = (tl_coord[1] - bl_coord[1]) / grid_size[1]\n",
        "  print(f\"step x: {step_x} step y: {step_y}\")#coordinates are increased by these step values\n",
        "\n",
        "  #creates a map of coordinates for which density is to found\n",
        "  print(\"calculating coordinates\")\n",
        "  x_value = tl_coord[0]\n",
        "  for x_index in range(grid_size[0]):\n",
        "    x_value += step_x\n",
        "    y_value = tl_coord[1]\n",
        "    for y_index in range(grid_size[1]):\n",
        "      y_value += step_y\n",
        "      coord_map[x_index,y_index][0] = x_value\n",
        "      coord_map[x_index, y_index][1] = y_value\n",
        "\n",
        "  print(\"creating heatmap\")\n",
        "  heatmap, density_df = calculate_intensity(coord_map, radius_mtr)\n",
        "  print(\"done\")\n",
        "  return heatmap, density_df"
      ],
      "execution_count": 0,
      "outputs": []
    },
    {
      "cell_type": "code",
      "metadata": {
        "id": "O58mBSxekxNL",
        "colab_type": "code",
        "colab": {}
      },
      "source": [
        "#takes time to complete\n",
        "#reduce the grid size for making it faster\n",
        "heatmap, density_df = get_heatmap((41.003508, 29.203245), (40.977055, 29.249251), (20, 20), 200)"
      ],
      "execution_count": 0,
      "outputs": []
    },
    {
      "cell_type": "code",
      "metadata": {
        "id": "2QL4UH_eubce",
        "colab_type": "code",
        "outputId": "3881f3c6-721a-423d-aaf5-7e8d32ba7cbf",
        "colab": {
          "base_uri": "https://localhost:8080/",
          "height": 254
        }
      },
      "source": [
        "img = sns.heatmap(heatmap, xticklabels = False, yticklabels = False)\n",
        "#img.get_figure().savefig('test.png')"
      ],
      "execution_count": 28,
      "outputs": [
        {
          "output_type": "display_data",
          "data": {
            "image/png": "[encoded data removed]",
            "text/plain": [
              "<Figure size 432x288 with 2 Axes>"
            ]
          },
          "metadata": {
            "tags": []
          }
        }
      ]
    },
    {
      "cell_type": "code",
      "metadata": {
        "id": "A9ZK43A8KKSZ",
        "colab_type": "code",
        "colab": {}
      },
      "source": [
        "#visualize the heatmap on the map\n",
        "def visualize_heatmap(density_df):\n",
        "\n",
        "  den_100 = density_df.query('density <= 100')\n",
        "  den_200 = density_df.query('density > 100 and density <= 200')\n",
        "  den_300 = density_df.query('density > 200')\n",
        "\n",
        "  point = density_df.loc[0]\n",
        "  geo_map = folium.Map((point['latitude'], point['longitude']), zoom_start = 10)\n",
        "  heat_df_100= den_100[['latitude', 'longitude']]\n",
        "  heat_df_200 = den_200[['latitude', 'longitude']]\n",
        "  heat_df_300 = den_300[['latitude', 'longitude']]\n",
        "\n",
        "\n",
        "  geo_map.add_child(plugins.HeatMap(heat_df_100.as_matrix(), radius = 20, min_opacity = 0.5, gradient = {0.4: 'blue', 0.65: 'blue', 1: 'lime'}))\n",
        "  geo_map.add_child(plugins.HeatMap(heat_df_200.as_matrix(), radius = 20, min_opacity = 0.5, gradient = {0.4: 'lime', 0.65: 'lime', 1: 'red'}))\n",
        "  geo_map.add_child(plugins.HeatMap(heat_df_300.as_matrix(), radius = 25, min_opacity = 0.5, gradient = {0.4: 'red', 0.65: 'red', 1: 'red'}))\n",
        "  geo_map.save('map.html')\n",
        "  return geo_map"
      ],
      "execution_count": 0,
      "outputs": []
    },
    {
      "cell_type": "code",
      "metadata": {
        "id": "ztCa5k0u1G51",
        "colab_type": "code",
        "colab": {
          "base_uri": "https://localhost:8080/",
          "height": 811
        },
        "outputId": "11f7c2a2-7600-4d7f-89f1-984e5d10664e"
      },
      "source": [
        "geo_map = visualize_heatmap(density_df)\n",
        "geo_map"
      ],
      "execution_count": 117,
      "outputs": [
        {
          "output_type": "stream",
          "text": [
            "/usr/local/lib/python3.6/dist-packages/ipykernel_launcher.py:14: FutureWarning: Method .as_matrix will be removed in a future version. Use .values instead.\n",
            "  \n",
            "/usr/local/lib/python3.6/dist-packages/ipykernel_launcher.py:15: FutureWarning: Method .as_matrix will be removed in a future version. Use .values instead.\n",
            "  from ipykernel import kernelapp as app\n",
            "/usr/local/lib/python3.6/dist-packages/ipykernel_launcher.py:16: FutureWarning: Method .as_matrix will be removed in a future version. Use .values instead.\n",
            "  app.launch_new_instance()\n"
          ],
          "name": "stderr"
        },
        {
          "output_type": "execute_result",
          "data": {
            "text/html": [
              "<div style=\"width:100%;\"><div style=\"position:relative;width:100%;height:0;padding-bottom:60%;\"><iframe src=\"data:text/html;charset=utf-8;base64,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\" style=\"position:absolute;width:100%;height:100%;left:0;top:0;border:none !important;\" allowfullscreen webkitallowfullscreen mozallowfullscreen></iframe></div></div>"
            ],
            "text/plain": [
              "<folium.folium.Map at 0x7ff6af222f28>"
            ]
          },
          "metadata": {
            "tags": []
          },
          "execution_count": 117
        }
      ]
    },
    {
      "cell_type": "code",
      "metadata": {
        "colab_type": "code",
        "id": "mbD7rU80J1TQ",
        "colab": {
          "base_uri": "https://localhost:8080/",
          "height": 34
        },
        "outputId": "2243138c-5c3f-415b-a5e7-9a52a7087c17"
      },
      "source": [
        "#workaround for finding width of road.\n",
        "#we can assign discrete value for each road type as roads belonging to same category will have similar width\n",
        "point = (40.982911, 29.243035)\n",
        "radius = 200\n",
        "\n",
        "g = ox.core.graph_from_point(np.array(point), distance = radius, infrastructure = 'way[\"highway\"]')\n",
        "g = ox.project_graph(g)\n",
        "nodes, edges = ox.graph_to_gdfs(g)\n",
        "edges.shape\n",
        "print(edges['highway'].unique())"
      ],
      "execution_count": 101,
      "outputs": [
        {
          "output_type": "stream",
          "text": [
            "['residential' 'tertiary']\n"
          ],
          "name": "stdout"
        }
      ]
    },
    {
      "cell_type": "code",
      "metadata": {
        "id": "_QyQI5Pd3HWY",
        "colab_type": "code",
        "colab": {}
      },
      "source": [
        ""
      ],
      "execution_count": 0,
      "outputs": []
    }
  ]
}