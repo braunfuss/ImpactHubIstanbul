{
  "nbformat": 4,
  "nbformat_minor": 0,
  "metadata": {
    "kernelspec": {
      "name": "python3",
      "display_name": "Python 3"
    },
    "language_info": {
      "codemirror_mode": {
        "name": "ipython",
        "version": 3
      },
      "file_extension": ".py",
      "mimetype": "text/x-python",
      "name": "python",
      "nbconvert_exporter": "python",
      "pygments_lexer": "ipython3",
      "version": "3.7.3"
    },
    "colab": {
      "name": "heatmap_building_density.ipynb",
      "provenance": [],
      "collapsed_sections": []
    },
    "accelerator": "GPU"
  },
  "cells": [
    {
      "cell_type": "markdown",
      "metadata": {
        "id": "BJqsxqFM13wI",
        "colab_type": "text"
      },
      "source": [
        "[![Open In Colab](https://colab.research.google.com/assets/colab-badge.svg)](https://colab.research.google.com/github/googlecolab/colabtools/blob/master/notebooks/colab-github-demo.ipynb)"
      ]
    },
    {
      "cell_type": "code",
      "metadata": {
        "id": "ri74jlOMTMpk",
        "colab_type": "code",
        "colab": {}
      },
      "source": [
        "#run this once\n",
        "import os, IPython\n",
        "os.system(\"apt-get install -qq curl g++ make; curl -L http://download.osgeo.org/libspatialindex/spatialindex-src-1.8.5.tar.gz | tar xz\")\n",
        "os.chdir('spatialindex-src-1.8.5')\n",
        "os.system(\"./configure; make; make install; pip install rtree ;ldconfig\")\n",
        "os.chdir('/content')\n",
        "os.system('apt-get update; apt-get install -y libproj-dev proj-data proj-bin libgeos-dev libspatialindex-dev')\n",
        "os.system('pip install pysal cython cartopy geoplot geopandas osmnx coverage coveralls folium pytest scikit-learn scipy sphinx twine  descartes Shapely')\n",
        "os.system(\"wget -O /usr/local/lib/python3.6/dist-packages/osmnx/footprints.py https://raw.githubusercontent.com/gboeing/osmnx/master/osmnx/footprints.py\")"
      ],
      "execution_count": 0,
      "outputs": []
    },
    {
      "cell_type": "code",
      "metadata": {
        "id": "QkcECin7p-Y6",
        "colab_type": "code",
        "colab": {}
      },
      "source": [
        "import networkx as nx\n",
        "import osmnx as ox\n",
        "import geopandas as gpd\n",
        "import numpy as np\n",
        "import matplotlib.pyplot as plt\n",
        "import math\n",
        "from IPython.display import Image\n",
        "import seaborn as sns"
      ],
      "execution_count": 0,
      "outputs": []
    },
    {
      "cell_type": "code",
      "metadata": {
        "id": "3kRR325RsVs7",
        "colab_type": "code",
        "colab": {}
      },
      "source": [
        "#finds number of buildings present inside the radius of the coordinate\n",
        "def calculate_intensity(coord_map, radius):\n",
        "\n",
        "  print(coord_map.shape)\n",
        "  heatmap = np.zeros((coord_map.shape[0], coord_map.shape[1]))\n",
        "  for row_index in range(coord_map.shape[0]):\n",
        "\n",
        "    row = coord_map[row_index]\n",
        "    for col_index in range(coord_map.shape[1]):\n",
        "\n",
        "      try:\n",
        "        point = row[col_index]\n",
        "        gdf = ox.footprints.footprints_from_point(np.array(point), distance = radius, footprint_type = 'building')\n",
        "        proj = ox.project_gdf(gdf)\n",
        "        \n",
        "        #this logic will be improved later\n",
        "        #num of buildings can be made into categorical value while building the model.\n",
        "        num_buildings = proj.shape[0]\n",
        "        heatmap[row_index, col_index] = num_buildings\n",
        "      except:\n",
        "        pass\n",
        "  \n",
        "  return heatmap"
      ],
      "execution_count": 0,
      "outputs": []
    },
    {
      "cell_type": "code",
      "metadata": {
        "id": "kDea5IIO1FXn",
        "colab_type": "code",
        "colab": {}
      },
      "source": [
        "#distance between pair of lat long coordinates\n",
        "def distance(p1, p2):\n",
        "  lat_1 = (p1[0]) * math.pi / 180.0\n",
        "  lat_2 = (p2[0]) * math.pi / 180.0\n",
        "  lat_diff = lat_1 - lat_2\n",
        "  long_diff = (p1[1] - p2[1]) * math.pi / 180.0\n",
        "\n",
        "  a = math.pow(math.sin(lat_diff / 2), 2) + math.pow(math.sin(long_diff / 2), 2) + math.cos(lat_1) * math.cos(lat_2)\n",
        "  rad = 6371\n",
        "  return rad * math.asin(math.sqrt(a)) * 2"
      ],
      "execution_count": 0,
      "outputs": []
    },
    {
      "cell_type": "code",
      "metadata": {
        "id": "BQDJKiqsaCAb",
        "colab_type": "code",
        "colab": {}
      },
      "source": [
        "def get_heatmap(tl_coord, br_coord, grid_size, radius_mtr):\n",
        "  '''\n",
        "  tl_coord  coordinate of top left corner.\n",
        "  br_coord  coordinate of bottom left corner.\n",
        "  grid_size number of intermediate (lat, long) around which density is calculated.\n",
        "  radius_mtr  number of buildings which lies inside the given radius(meters) around a point are considered.\n",
        "  '''\n",
        "  coord_map = np.zeros((grid_size[0], grid_size[1], 2))#stores all the intermediate coordinates for the given rectangle boundary\n",
        "  tr_coord = (br_coord[0], tl_coord[1])\n",
        "  bl_coord = (tl_coord[0], br_coord[1])\n",
        "\n",
        "  #dist_x = distance(tl_coord, tr_coord)\n",
        "  #dist_y = distance(tl_coord, bl_coord)\n",
        "  step_x = (tl_coord[0] - tr_coord[0]) / grid_size[0]\n",
        "  step_y = (tl_coord[1] - bl_coord[1]) / grid_size[1]\n",
        "  print(f\"step x: {step_x} step y: {step_y}\")#coordinates are increased by these step values\n",
        "\n",
        "  #creates a map of coordinates for which density is to found\n",
        "  print(\"calculating coordinates\")\n",
        "  x_value = tl_coord[0]\n",
        "  for x_index in range(grid_size[0]):\n",
        "    x_value += step_x\n",
        "    y_value = tl_coord[1]\n",
        "    for y_index in range(grid_size[1]):\n",
        "      y_value += step_y\n",
        "      coord_map[x_index,y_index][0] = x_value\n",
        "      coord_map[x_index, y_index][1] = y_value\n",
        "\n",
        "  print(\"creating heatmap\")\n",
        "  heatmap = calculate_intensity(coord_map, radius_mtr)\n",
        "  print(\"done\")\n",
        "  return heatmap"
      ],
      "execution_count": 0,
      "outputs": []
    },
    {
      "cell_type": "code",
      "metadata": {
        "id": "O58mBSxekxNL",
        "colab_type": "code",
        "colab": {}
      },
      "source": [
        "#takes time to complete\n",
        "#reduce the grid size for making it faster\n",
        "heatmap = get_heatmap((41.003508, 29.203245), (40.977055, 29.249251), (20, 20), 200)"
      ],
      "execution_count": 0,
      "outputs": []
    },
    {
      "cell_type": "code",
      "metadata": {
        "id": "2QL4UH_eubce",
        "colab_type": "code",
        "colab": {
          "base_uri": "https://localhost:8080/",
          "height": 254
        },
        "outputId": "3543d9d0-c419-444e-c1ca-06c564efac19"
      },
      "source": [
        "img = sns.heatmap(heatmap, xticklabels = False, yticklabels = False)\n",
        "img.get_figure().savefig('test.png')"
      ],
      "execution_count": 35,
      "outputs": [
        {
          "output_type": "display_data",
          "data": {
            "image/png": "[encoded data removed]",
            "text/plain": [
              "<Figure size 432x288 with 2 Axes>"
            ]
          },
          "metadata": {
            "tags": []
          }
        }
      ]
    },
    {
      "cell_type": "code",
      "metadata": {
        "id": "HwmcQAoMxoO1",
        "colab_type": "code",
        "colab": {}
      },
      "source": [
        ""
      ],
      "execution_count": 0,
      "outputs": []
    }
  ]
}