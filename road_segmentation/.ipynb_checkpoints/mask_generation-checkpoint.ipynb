{
 "cells": [
  {
   "cell_type": "code",
   "execution_count": 0,
   "metadata": {
    "colab": {},
    "colab_type": "code",
    "id": "1TBd8wLDmqkV"
   },
   "outputs": [],
   "source": [
    "!pip install rasterio"
   ]
  },
  {
   "cell_type": "code",
   "execution_count": 0,
   "metadata": {
    "colab": {},
    "colab_type": "code",
    "id": "R3N4b91jdX5G"
   },
   "outputs": [],
   "source": [
    "import gdal\n",
    "from osgeo import ogr\n",
    "import numpy as np\n",
    "from PIL import Image\n",
    "from matplotlib import pyplot as plt\n",
    "import json\n",
    "import rasterio\n",
    "from shapely.geometry import LineString, Polygon, shape\n",
    "import cv2\n",
    "import os\n",
    "import pandas as pd"
   ]
  },
  {
   "cell_type": "code",
   "execution_count": 0,
   "metadata": {
    "colab": {},
    "colab_type": "code",
    "id": "rv4AAaJ5IIyr"
   },
   "outputs": [],
   "source": [
    "from google.colab import drive\n",
    "drive.mount('/content/drive')\n",
    "drive_path = \"/content/drive/My Drive/\"\n",
    "\n",
    "if not os.path.exists(drive_path + '/spacenet-data'):\n",
    "    print(\"Path created\")\n",
    "    os.makedirs(drive_path + 'spacenet-data')\n",
    "drive_path = \"/content/drive/My Drive/spacenet-data/\""
   ]
  },
  {
   "cell_type": "code",
   "execution_count": 0,
   "metadata": {
    "colab": {},
    "colab_type": "code",
    "id": "K7yvi5pdtY_A"
   },
   "outputs": [],
   "source": [
    "#installing aws cli\n",
    "!curl \"https://d1vvhvl2y92vvt.cloudfront.net/awscli-exe-linux-x86_64.zip\" -o \"awscliv2.zip\"\n",
    "!unzip awscliv2.zip\n",
    "!sudo ./aws/install"
   ]
  },
  {
   "cell_type": "code",
   "execution_count": 0,
   "metadata": {
    "colab": {},
    "colab_type": "code",
    "id": "sdpIE_BetziU"
   },
   "outputs": [],
   "source": [
    "#enter your AWS access key, secret key, us-east-1, JSON\n",
    "!/usr/local/bin/aws2 configure"
   ]
  },
  {
   "cell_type": "code",
   "execution_count": 0,
   "metadata": {
    "colab": {},
    "colab_type": "code",
    "id": "qX2mQh1bt1zK"
   },
   "outputs": [],
   "source": [
    "#display path of aws\n",
    "!/usr/local/bin/aws2 s3 ls s3://spacenet-dataset/spacenet/"
   ]
  },
  {
   "cell_type": "code",
   "execution_count": 4,
   "metadata": {
    "colab": {
     "base_uri": "https://localhost:8080/",
     "height": 191
    },
    "colab_type": "code",
    "id": "ZNjwlozVuPlT",
    "outputId": "b19199eb-9ede-438d-fa24-042638cfff88"
   },
   "outputs": [
    {
     "name": "stdout",
     "output_type": "stream",
     "text": [
      "                           PRE MS/\n",
      "                           PRE PAN/\n",
      "                           PRE PS-MS/\n",
      "                           PRE PS-RGB/\n",
      "                           PRE geojson_roads/\n",
      "                           PRE geojson_roads_speed/\n",
      "                           PRE metadata/\n",
      "2019-08-29 06:35:38    1850785 SN3_roads_train_AOI_2_Vegas_road_labels.csv\n",
      "2019-10-21 13:07:42    9356182 train_AOI_2_Vegas_geojson_roads_speed_wkt_weighted_raw.csv\n",
      "2019-10-03 19:25:02    6091897 train_AOI_2_Vegas_geojson_roads_speed_wkt_weighted_simp.csv\n"
     ]
    }
   ],
   "source": [
    "#Images and geojson files related to Vegas\n",
    "!/usr/local/bin/aws2 s3 ls s3://spacenet-dataset/spacenet/SN3_roads/train/AOI_2_Vegas/"
   ]
  },
  {
   "cell_type": "code",
   "execution_count": 0,
   "metadata": {
    "colab": {},
    "colab_type": "code",
    "id": "TeQNrsZov9As"
   },
   "outputs": [],
   "source": [
    "#download tif from AWS\n",
    "!/usr/local/bin/aws2 s3api get-object --bucket spacenet-dataset \\\n",
    "    --key spacenet/SN3_roads/train/AOI_2_Vegas/PS-MS/SN3_roads_train_AOI_2_Vegas_PS-MS_img100.tif \\\n",
    "    --request-payer requester SN3_roads_train_AOI_2_Vegas_PS-MS_img100.tif"
   ]
  },
  {
   "cell_type": "code",
   "execution_count": 0,
   "metadata": {
    "colab": {},
    "colab_type": "code",
    "id": "wFqXycF6uvRm"
   },
   "outputs": [],
   "source": [
    "#download roads gejson from AWS\n",
    "!/usr/local/bin/aws2 s3api get-object --bucket spacenet-dataset \\\n",
    "    --key spacenet/SN3_roads/train/AOI_2_Vegas/geojson_roads_speed/road_speed_estimates.txt \\\n",
    "    --request-payer requester road_speed_estimates.txt"
   ]
  },
  {
   "cell_type": "code",
   "execution_count": 0,
   "metadata": {
    "colab": {},
    "colab_type": "code",
    "id": "OH_F4eh0a3lu"
   },
   "outputs": [],
   "source": [
    "#list of names of all image files present in MS directory\n",
    "data = pd.read_csv('vegas_ms_list.txt', header = None)\n",
    "image_list = data[3]\n",
    "image_list = image_list.values"
   ]
  },
  {
   "cell_type": "code",
   "execution_count": 0,
   "metadata": {
    "colab": {},
    "colab_type": "code",
    "id": "70MDf5E7d0LC"
   },
   "outputs": [],
   "source": [
    "image_path = '/content/drive/My Drive/spacenet-data/data/'\n",
    "geojson_path = '/content/drive/My Drive/spacenet-data/geojson_roads/'\n",
    "geojson_speed_path = '/content/drive/My Drive/spacenet-data/geojson_roads_speed/'\n",
    "mask_path = '/content/drive/My Drive/spacenet-data/mask/'"
   ]
  },
  {
   "cell_type": "code",
   "execution_count": 0,
   "metadata": {
    "colab": {},
    "colab_type": "code",
    "id": "Pqtb8PSWPKV6"
   },
   "outputs": [],
   "source": [
    "#download satellite images\n",
    "if not os.path.exists(drive_path+'data'):\n",
    "    os.makedirs(drive_path+'data')\n",
    "for image in image_list:\n",
    "    print(f\"{image}\")\n",
    "    cmd = f'/usr/local/bin/aws2 s3api get-object --bucket spacenet-dataset --key spacenet/SN3_roads/train/AOI_2_Vegas/MS/{image} --request-payer requester /content/drive/\"My Drive\"/spacenet-data/data/{image}'\n",
    "    os.system(cmd)"
   ]
  },
  {
   "cell_type": "code",
   "execution_count": 0,
   "metadata": {
    "colab": {},
    "colab_type": "code",
    "id": "f3QvSifot2Q2"
   },
   "outputs": [],
   "source": [
    "#download geojson_roads\n",
    "if not os.path.exists(drive_path+'geojson_roads'):\n",
    "    os.makedirs(drive_path+'geojson_roads')\n",
    "\n",
    "for image in image_list:\n",
    "    geojson_name = image.replace(\"MS\",\"geojson_roads\").replace(\"tif\", \"geojson\")\n",
    "    print(f\"{geojson_name}\")\n",
    "    cmd = f'/usr/local/bin/aws2 s3api get-object --bucket spacenet-dataset --key spacenet/SN3_roads/train/AOI_2_Vegas/geojson_roads/{geojson_name} --request-payer requester /content/drive/\"My Drive\"/spacenet-data/geojson_roads/{geojson_name}'\n",
    "    os.system(cmd)"
   ]
  },
  {
   "cell_type": "code",
   "execution_count": null,
   "metadata": {
    "colab": {},
    "colab_type": "code",
    "id": "3qi9eFOJOksl"
   },
   "outputs": [],
   "source": [
    "#download geojson_roads_speed\n",
    "if not os.path.exists(drive_path+'geojson_roads_speed'):\n",
    "    print(\"Dir created\")\n",
    "    os.makedirs(drive_path+'geojson_roads_speed')\n",
    "    \n",
    "for image in image_list:\n",
    "    geojson_name = image.replace(\"MS\",\"geojson_roads_speed\").replace(\"tif\", \"geojson\")\n",
    "    print(f\"{geojson_name}\")\n",
    "    cmd = f'/usr/local/bin/aws2 s3api get-object --bucket spacenet-dataset --key spacenet/SN3_roads/train/AOI_2_Vegas/geojson_roads_speed/{geojson_name} --request-payer requester /content/drive/\"My Drive\"/spacenet-data/geojson_roads_speed/{geojson_name}'\n",
    "    os.system(cmd)"
   ]
  },
  {
   "cell_type": "code",
   "execution_count": 0,
   "metadata": {
    "colab": {},
    "colab_type": "code",
    "id": "mT464ycHX4kE"
   },
   "outputs": [],
   "source": [
    "def show_raster(raster_src):\n",
    "    src1 = rasterio.open(raster_src)\n",
    "    print(src1.shape)\n",
    "    plt.imshow(src1.read(1), cmap = 'pink')\n",
    "    plt.plot()"
   ]
  },
  {
   "cell_type": "code",
   "execution_count": 0,
   "metadata": {
    "colab": {},
    "colab_type": "code",
    "id": "GXwZ3HYuzlhI"
   },
   "outputs": [],
   "source": [
    "def create_mask(geojson_file, raster_src):\n",
    "\n",
    "    srcRas_ds = gdal.Open(raster_src)\n",
    "    cols = srcRas_ds.RasterXSize\n",
    "    rows = srcRas_ds.RasterYSize\n",
    "\n",
    "    mask = np.zeros((rows, cols))\n",
    "    with open(geojson_file, 'r') as file:\n",
    "        geo_json = json.load(file)\n",
    "            with rasterio.open(raster_src) as map_image:\n",
    "                for road in geo_json['features']:\n",
    "                    polys = list()\n",
    "                    geometry = road['geometry']\n",
    "                    if geometry['type'] == \"MultiLineString\":\n",
    "                        points = np.array(geometry['coordinates'][0])\n",
    "\n",
    "                    else:\n",
    "                        points = np.array(geometry['coordinates'])\n",
    "\n",
    "                    for point in points:\n",
    "                        coords = map_image.index(point[0], point[1])\n",
    "                        polys.append([coords[1], coords[0]])\n",
    "                        cv2.polylines(mask, np.int32([polys]), False, (255, 255, 255), thickness = 3)\n",
    "\n",
    "\n",
    "    mask = mask.astype(bool)\n",
    "    return mask"
   ]
  },
  {
   "cell_type": "code",
   "execution_count": 0,
   "metadata": {
    "colab": {},
    "colab_type": "code",
    "id": "lUxTT9RR0wmM"
   },
   "outputs": [],
   "source": [
    "def create_mask_road_width(geojson_file, raster_src):\n",
    "\n",
    "    srcRas_ds = gdal.Open(raster_src)\n",
    "    cols = srcRas_ds.RasterXSize\n",
    "    rows = srcRas_ds.RasterYSize\n",
    "\n",
    "    mask = np.zeros((rows, cols))\n",
    "    with open(geojson_file, 'r') as file:\n",
    "        geo_json = json.load(file)\n",
    "        with rasterio.open(raster_src) as map_image:\n",
    "            for road in geo_json['features']:\n",
    "                polys = list()\n",
    "                num_of_lanes = int(road['properties']['lane_number'])\n",
    "                geometry = road['geometry']\n",
    "                if geometry['type'] == \"MultiLineString\":\n",
    "                    points = np.array(geometry['coordinates'][0])\n",
    "\n",
    "                else:\n",
    "                    points = np.array(geometry['coordinates'])\n",
    "\n",
    "                for point in points:\n",
    "                    coords = map_image.index(point[0], point[1])\n",
    "                    polys.append([coords[1], coords[0]])\n",
    "                    cv2.polylines(mask, np.int32([polys]), False, (255, 255, 255), thickness = num_of_lanes)\n",
    "\n",
    "\n",
    "    mask = mask.astype(bool)\n",
    "    return mask"
   ]
  },
  {
   "cell_type": "code",
   "execution_count": 0,
   "metadata": {
    "colab": {},
    "colab_type": "code",
    "id": "yrwXVue4_iee"
   },
   "outputs": [],
   "source": [
    "def get_road_color(road_type):\n",
    "    case = {'1':(66, 135, 245),\n",
    "          '2':(69, 245, 66),\n",
    "          '3':(20, 150, 255),\n",
    "          '4':(247, 250, 80),\n",
    "          '5':(97, 242, 242),\n",
    "          '6':(255, 255, 255)}\n",
    "    return case.get(road_type)"
   ]
  },
  {
   "cell_type": "code",
   "execution_count": 0,
   "metadata": {
    "colab": {},
    "colab_type": "code",
    "id": "vJHlmSr2g3Vs"
   },
   "outputs": [],
   "source": [
    "def create_mask_road_type(geojson_file, raster_src):\n",
    "\n",
    "    srcRas_ds = gdal.Open(raster_src)\n",
    "    cols = srcRas_ds.RasterXSize\n",
    "    rows = srcRas_ds.RasterYSize\n",
    "\n",
    "    mask = np.zeros((rows, cols))\n",
    "    with open(geojson_file, 'r') as file:\n",
    "        geo_json = json.load(file)\n",
    "        with rasterio.open(raster_src) as map_image:\n",
    "            for road in geo_json['features']:\n",
    "                polys = list()\n",
    "                road_type = road['properties']['road_type']\n",
    "                geometry = road['geometry']\n",
    "                if geometry['type'] == \"MultiLineString\":\n",
    "                    points = np.array(geometry['coordinates'][0])\n",
    "\n",
    "                else:\n",
    "                    points = np.array(geometry['coordinates'])\n",
    "\n",
    "                for point in points:\n",
    "                    coords = map_image.index(point[0], point[1])\n",
    "                    polys.append([coords[1], coords[0]])\n",
    "                    cv2.polylines(mask, np.int32([polys]), False, get_road_color(road_type), thickness = 3)\n",
    "\n",
    "    return mask"
   ]
  },
  {
   "cell_type": "code",
   "execution_count": 0,
   "metadata": {
    "colab": {},
    "colab_type": "code",
    "id": "iKu63kZf1Nmw"
   },
   "outputs": [],
   "source": [
    "image = image_path + 'SN3_roads_train_AOI_2_Vegas_MS_img100.tif'\n",
    "geojson = geojson_path + 'SN3_roads_train_AOI_2_Vegas_geojson_roads_img100.geojson'\n",
    "geojson_speed = geojson_speed_path + 'SN3_roads_train_AOI_2_Vegas_geojson_roads_speed_img100.geojson'"
   ]
  },
  {
   "cell_type": "code",
   "execution_count": 22,
   "metadata": {
    "colab": {
     "base_uri": "https://localhost:8080/",
     "height": 286
    },
    "colab_type": "code",
    "id": "1tRyGLUv1A_m",
    "outputId": "7283b18d-8200-41de-8902-11711e1d565c"
   },
   "outputs": [
    {
     "data": {
      "text/plain": [
       "<matplotlib.image.AxesImage at 0x7fc09b9bb518>"
      ]
     },
     "execution_count": 22,
     "metadata": {
      "tags": []
     },
     "output_type": "execute_result"
    },
    {
     "data": {
      "image/png": "[encoded data removed]",
      "text/plain": [
       "<Figure size 432x288 with 1 Axes>"
      ]
     },
     "metadata": {
      "tags": []
     },
     "output_type": "display_data"
    }
   ],
   "source": [
    "mask = create_mask(geojson, image)\n",
    "plt.imshow(mask)"
   ]
  },
  {
   "cell_type": "code",
   "execution_count": 32,
   "metadata": {
    "colab": {
     "base_uri": "https://localhost:8080/",
     "height": 286
    },
    "colab_type": "code",
    "id": "fzDqdPTE1GN9",
    "outputId": "d917edb7-1569-4677-a1a7-42b1e7def526"
   },
   "outputs": [
    {
     "data": {
      "text/plain": [
       "<matplotlib.image.AxesImage at 0x7fc09b4ae320>"
      ]
     },
     "execution_count": 32,
     "metadata": {
      "tags": []
     },
     "output_type": "execute_result"
    },
    {
     "data": {
      "image/png": "[encoded data removed]",
      "text/plain": [
       "<Figure size 432x288 with 1 Axes>"
      ]
     },
     "metadata": {
      "tags": []
     },
     "output_type": "display_data"
    }
   ],
   "source": [
    "mask_width = create_mask_road_width(geojson_speed, image)\n",
    "plt.imshow(mask_width)"
   ]
  },
  {
   "cell_type": "code",
   "execution_count": 35,
   "metadata": {
    "colab": {
     "base_uri": "https://localhost:8080/",
     "height": 286
    },
    "colab_type": "code",
    "id": "IM0hGggE1J7S",
    "outputId": "b5370b71-894e-4c07-f75a-1fb8937c74ed"
   },
   "outputs": [
    {
     "data": {
      "text/plain": [
       "<matplotlib.image.AxesImage at 0x7fc09ba92c50>"
      ]
     },
     "execution_count": 35,
     "metadata": {
      "tags": []
     },
     "output_type": "execute_result"
    },
    {
     "data": {
      "image/png": "[encoded data removed]",
      "text/plain": [
       "<Figure size 432x288 with 1 Axes>"
      ]
     },
     "metadata": {
      "tags": []
     },
     "output_type": "display_data"
    }
   ],
   "source": [
    "mask_type = create_mask_road_type(geojson, image)\n",
    "plt.imshow(mask_type)"
   ]
  },
  {
   "cell_type": "code",
   "execution_count": null,
   "metadata": {
    "colab": {},
    "colab_type": "code",
    "id": "jcn9sf-bbDtW"
   },
   "outputs": [],
   "source": [
    "#create binary mask\n",
    "count = 0\n",
    "for image_name in image_list:\n",
    "    try:\n",
    "        geojson_name = image_name.replace(\"MS\", \"geojson_roads\").replace(\"tif\", \"geojson\")\n",
    "        mask = create_mask(geojson_path + geojson_name, image_path + image_name)\n",
    "        mask_name = image_name.replace(\"MS\", \"mask\").replace(\"tif\", \"npy\")\n",
    "        print(f\"{count} {image_name} {geojson_name} {mask_name}\")\n",
    "        np.save(mask_path+mask_name, mask)\n",
    "        count += 1\n",
    "    except Exception:\n",
    "        print(\"Error \"+str(Exception))\n",
    "        missing.append(image_name)\n",
    "        pass\n"
   ]
  },
  {
   "cell_type": "code",
   "execution_count": null,
   "metadata": {},
   "outputs": [],
   "source": []
  }
 ],
 "metadata": {
  "accelerator": "GPU",
  "colab": {
   "collapsed_sections": [],
   "name": "road_imaging.ipynb",
   "provenance": []
  },
  "kernelspec": {
   "display_name": "Python 3",
   "language": "python",
   "name": "python3"
  },
  "language_info": {
   "codemirror_mode": {
    "name": "ipython",
    "version": 3
   },
   "file_extension": ".py",
   "mimetype": "text/x-python",
   "name": "python",
   "nbconvert_exporter": "python",
   "pygments_lexer": "ipython3",
   "version": "3.7.5"
  }
 },
 "nbformat": 4,
 "nbformat_minor": 1
}
