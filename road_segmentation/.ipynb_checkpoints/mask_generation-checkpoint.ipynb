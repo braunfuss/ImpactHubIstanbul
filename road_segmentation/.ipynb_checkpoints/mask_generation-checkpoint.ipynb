{
 "cells": [
  {
   "cell_type": "code",
   "execution_count": null,
   "metadata": {
    "colab": {},
    "colab_type": "code",
    "id": "1TBd8wLDmqkV"
   },
   "outputs": [],
   "source": [
    "!pip install rasterio"
   ]
  },
  {
   "cell_type": "code",
   "execution_count": null,
   "metadata": {
    "colab": {},
    "colab_type": "code",
    "id": "R3N4b91jdX5G"
   },
   "outputs": [],
   "source": [
    "import gdal\n",
    "from osgeo import ogr\n",
    "import numpy as np\n",
    "from PIL import Image\n",
    "from matplotlib import pyplot as plt\n",
    "import json\n",
    "import rasterio\n",
    "from shapely.geometry import LineString, Polygon, shape\n",
    "import cv2\n",
    "import os\n",
    "import pandas as pd"
   ]
  },
  {
   "cell_type": "code",
   "execution_count": null,
   "metadata": {
    "colab": {
     "base_uri": "https://localhost:8080/",
     "height": 124
    },
    "colab_type": "code",
    "id": "rv4AAaJ5IIyr",
    "outputId": "a19d7228-0e8d-4789-ed85-d09404394f40"
   },
   "outputs": [],
   "source": [
    "from google.colab import drive\n",
    "drive.mount('/content/drive')\n",
    "drive_path = \"/content/drive/My Drive/\"\n",
    "\n",
    "if not os.path.exists(drive_path + '/spacenet-data'):\n",
    "  print(\"Path created\")\n",
    "  os.makedirs(drive_path + 'spacenet-data')\n",
    "drive_path = \"/content/drive/My Drive/spacenet-data/\""
   ]
  },
  {
   "cell_type": "code",
   "execution_count": null,
   "metadata": {
    "colab": {},
    "colab_type": "code",
    "id": "K7yvi5pdtY_A"
   },
   "outputs": [],
   "source": [
    "#installing aws cli\n",
    "!curl \"https://d1vvhvl2y92vvt.cloudfront.net/awscli-exe-linux-x86_64.zip\" -o \"awscliv2.zip\"\n",
    "!unzip awscliv2.zip\n",
    "!sudo ./aws/install"
   ]
  },
  {
   "cell_type": "code",
   "execution_count": null,
   "metadata": {
    "colab": {
     "base_uri": "https://localhost:8080/",
     "height": 86
    },
    "colab_type": "code",
    "id": "sdpIE_BetziU",
    "outputId": "51943806-8c5c-4871-9d2c-0e73821cc265"
   },
   "outputs": [],
   "source": [
    "!/usr/local/bin/aws2 configure"
   ]
  },
  {
   "cell_type": "code",
   "execution_count": null,
   "metadata": {
    "colab": {},
    "colab_type": "code",
    "id": "qX2mQh1bt1zK"
   },
   "outputs": [],
   "source": [
    "#display path of aws\n",
    "!/usr/local/bin/aws2 s3 ls s3://spacenet-dataset/spacenet/"
   ]
  },
  {
   "cell_type": "code",
   "execution_count": null,
   "metadata": {
    "colab": {},
    "colab_type": "code",
    "id": "iXjxQCamAbWt"
   },
   "outputs": [],
   "source": [
    "#display path of aws\n",
    "!/usr/local/bin/aws2 s3 ls s3://spacenet-dataset/spacenet/SN3_roads/train/"
   ]
  },
  {
   "cell_type": "code",
   "execution_count": null,
   "metadata": {
    "colab": {},
    "colab_type": "code",
    "id": "PJBIMeuvB0Z5"
   },
   "outputs": [],
   "source": [
    "#display path of aws\n",
    "!/usr/local/bin/aws2 s3 ls s3://spacenet-dataset/spacenet/SN3_roads/train/AOI_2_Vegas/"
   ]
  },
  {
   "cell_type": "code",
   "execution_count": null,
   "metadata": {
    "colab": {},
    "colab_type": "code",
    "id": "ZNjwlozVuPlT"
   },
   "outputs": [],
   "source": [
    "#Images and geojson files related to Vegas\n",
    "!/usr/local/bin/aws2 s3 ls s3://spacenet-dataset/spacenet/SN3_roads/train/AOI_2_Vegas/PAN/"
   ]
  },
  {
   "cell_type": "code",
   "execution_count": null,
   "metadata": {
    "colab": {},
    "colab_type": "code",
    "id": "d0M0xdak4gG1"
   },
   "outputs": [],
   "source": [
    "!/usr/local/bin/aws2 s3 ls s3://spacenet-dataset/spacenet/SN3_roads/train/AOI_2_Vegas/geojson_roads_speed/"
   ]
  },
  {
   "cell_type": "code",
   "execution_count": null,
   "metadata": {
    "colab": {},
    "colab_type": "code",
    "id": "TeQNrsZov9As"
   },
   "outputs": [],
   "source": [
    "#download tif from AWS\n",
    "!/usr/local/bin/aws2 s3api get-object --bucket spacenet-dataset \\\n",
    "    --key spacenet/SN3_roads/train/AOI_2_Vegas/PAN/SN3_roads_train_AOI_2_Vegas_PAN_img100.tif \\\n",
    "    --request-payer requester SN3_roads_train_AOI_2_Vegas_PAN_img100.tif"
   ]
  },
  {
   "cell_type": "code",
   "execution_count": null,
   "metadata": {
    "colab": {},
    "colab_type": "code",
    "id": "wFqXycF6uvRm"
   },
   "outputs": [],
   "source": [
    "#download roads gejson from AWS\n",
    "!/usr/local/bin/aws2 s3api get-object --bucket spacenet-dataset \\\n",
    "    --key spacenet/SN3_roads/train/AOI_2_Vegas/geojson_roads_speed/road_speed_estimates.txt \\\n",
    "    --request-payer requester road_speed_estimates.txt"
   ]
  },
  {
   "cell_type": "code",
   "execution_count": null,
   "metadata": {
    "colab": {},
    "colab_type": "code",
    "id": "OH_F4eh0a3lu"
   },
   "outputs": [],
   "source": [
    "#list of names of all image files present in MS directory\n",
    "data = pd.read_csv(drive_path + 'shanghai_ms_list.txt', header = None)\n",
    "image_list = data[3]\n",
    "image_list = image_list.values"
   ]
  },
  {
   "cell_type": "code",
   "execution_count": null,
   "metadata": {
    "colab": {},
    "colab_type": "code",
    "id": "70MDf5E7d0LC"
   },
   "outputs": [],
   "source": [
    "image_path = '/content/drive/My Drive/spacenet-data/data/'\n",
    "geojson_path = '/content/drive/My Drive/spacenet-data/geojson_roads/'\n",
    "geojson_speed_path = '/content/drive/My Drive/spacenet-data/geojson_roads_speed/'\n",
    "mask_path = '/content/drive/My Drive/spacenet-data/mask/'"
   ]
  },
  {
   "cell_type": "code",
   "execution_count": null,
   "metadata": {
    "colab": {},
    "colab_type": "code",
    "id": "Ev2CC2ztXRl2"
   },
   "outputs": [],
   "source": [
    "#get satellite images\n",
    "def get_sat_images(region, image_list):\n",
    "  if not os.path.exists(drive_path+'data'):\n",
    "    os.makedirs(drive_path+'data')\n",
    "  count = 0\n",
    "  for image in image_list:\n",
    "    count += 1\n",
    "    print(f\"{count} {image}\")\n",
    "    image = image.replace(\"MS\", \"PAN\")\n",
    "    cmd = f'/usr/local/bin/aws2 s3api get-object --bucket spacenet-dataset --key spacenet/SN3_roads/train/{region}/MS/{image} --request-payer requester /content/drive/\"My Drive\"/spacenet-data/data/{image}'\n",
    "    os.system(cmd)"
   ]
  },
  {
   "cell_type": "code",
   "execution_count": null,
   "metadata": {
    "colab": {},
    "colab_type": "code",
    "id": "E-DwCQ4CcSuH"
   },
   "outputs": [],
   "source": [
    "#AOI_2_Vegas, AOI_3_Paris, AOI_4_Shanghai, AOI_5_Khartoum\n",
    "get_sat_images('AOI_4_Shanghai', image_list)"
   ]
  },
  {
   "cell_type": "code",
   "execution_count": null,
   "metadata": {
    "colab": {},
    "colab_type": "code",
    "id": "xHMBkt4nXyZq"
   },
   "outputs": [],
   "source": [
    "#download geojson_roads\n",
    "def get_geojson_roads(region, image_list):\n",
    "  if not os.path.exists(drive_path+'geojson_roads'):\n",
    "    os.makedirs(drive_path+'geojson_roads')\n",
    "  count = 0\n",
    "  for image in image_list:\n",
    "    count += 1\n",
    "    geojson_name = image.replace(\"MS\",\"geojson_roads\").replace(\"tif\", \"geojson\")\n",
    "    print(f\"{count} {geojson_name}\")\n",
    "    cmd = f'/usr/local/bin/aws2 s3api get-object --bucket spacenet-dataset --key spacenet/SN3_roads/train/{region}/geojson_roads/{geojson_name} --request-payer requester /content/drive/\"My Drive\"/spacenet-data/geojson_roads/{geojson_name}'\n",
    "    os.system(cmd)"
   ]
  },
  {
   "cell_type": "code",
   "execution_count": null,
   "metadata": {
    "colab": {},
    "colab_type": "code",
    "id": "1PY6N8M9eOkt"
   },
   "outputs": [],
   "source": [
    "#AOI_2_Vegas, AOI_3_Paris, AOI_4_Shanghai, AOI_5_Khartoum\n",
    "get_geojson_roads('AOI_4_Shanghai', image_list)"
   ]
  },
  {
   "cell_type": "code",
   "execution_count": null,
   "metadata": {
    "colab": {},
    "colab_type": "code",
    "id": "6-ihRNvaYEPR"
   },
   "outputs": [],
   "source": [
    "#download geojson_roads_speed\n",
    "def get_geojson_speed(region, image_list):\n",
    "  if not os.path.exists(drive_path+'geojson_roads_speed'):\n",
    "    os.makedirs(drive_path+'geojson_roads_speed')\n",
    "  count = 0\n",
    "  for image in image_list:\n",
    "    count += 1\n",
    "    geojson_name = image.replace(\"MS\",\"geojson_roads_speed\").replace(\"tif\", \"geojson\")\n",
    "    print(f\"{count} {geojson_name}\")\n",
    "    cmd = f'/usr/local/bin/aws2 s3api get-object --bucket spacenet-dataset --key spacenet/SN3_roads/train/{region}/geojson_roads_speed/{geojson_name} --request-payer requester /content/drive/\"My Drive\"/spacenet-data/geojson_roads_speed/{geojson_name}'\n",
    "    os.system(cmd)"
   ]
  },
  {
   "cell_type": "code",
   "execution_count": null,
   "metadata": {
    "colab": {},
    "colab_type": "code",
    "id": "HyC1FRfFgPxN"
   },
   "outputs": [],
   "source": [
    "#AOI_2_Vegas, AOI_3_Paris, AOI_4_Shanghai, AOI_5_Khartoum\n",
    "get_geojson_speed('AOI_4_Shanghai', image_list)"
   ]
  },
  {
   "cell_type": "code",
   "execution_count": null,
   "metadata": {
    "colab": {},
    "colab_type": "code",
    "id": "mT464ycHX4kE"
   },
   "outputs": [],
   "source": [
    "def show_raster(raster_src):\n",
    "  src1 = rasterio.open(raster_src)\n",
    "  print(src1.shape)\n",
    "  plt.imshow(src1.read(1), cmap = 'pink')\n",
    "  plt.plot()"
   ]
  },
  {
   "cell_type": "code",
   "execution_count": null,
   "metadata": {
    "colab": {},
    "colab_type": "code",
    "id": "lUxTT9RR0wmM"
   },
   "outputs": [],
   "source": [
    "#this method was used to create mask for train data\n",
    "def create_mask_road_lane(geojson_file, raster_src):\n",
    "\n",
    "  srcRas_ds = gdal.Open(raster_src)\n",
    "  cols = srcRas_ds.RasterXSize\n",
    "  rows = srcRas_ds.RasterYSize\n",
    "\n",
    "  mask = np.zeros((rows, cols))\n",
    "  with open(geojson_file, 'r') as file:\n",
    "      geo_json = json.load(file)\n",
    "      with rasterio.open(raster_src) as map_image:\n",
    "          for road in geo_json['features']:\n",
    "              polys = list()\n",
    "              num_of_lanes = int(road['properties']['lane_number'])\n",
    "              geometry = road['geometry']\n",
    "              if geometry['type'] == \"MultiLineString\":\n",
    "                  temp = list()\n",
    "                  for lines in geometry['coordinates']:\n",
    "                      for coords in lines:\n",
    "                          temp.append(coords)\n",
    "                  \n",
    "                  points = np.array(temp)\n",
    "              else:\n",
    "                  points = np.array(geometry['coordinates'])\n",
    "\n",
    "              for point in points:\n",
    "                  coords = map_image.index(point[0], point[1])\n",
    "                  polys.append([coords[1], coords[0]])\n",
    "\n",
    "\n",
    "                  if num_of_lanes == 1 or num_of_lanes == 2:\n",
    "                    cv2.polylines(mask, np.int32([polys]), False, (255, 0, 0), thickness = 2)\n",
    "                  elif num_of_lanes == 3 or num_of_lanes == 4:\n",
    "                    cv2.polylines(mask, np.int32([polys]), False, (255, 0, 0), thickness = 4)\n",
    "                  elif num_of_lanes == 5 or num_of_lanes == 6:\n",
    "                    cv2.polylines(mask, np.int32([polys]), False, (255, 0, 0), thickness = 6)\n",
    "\n",
    "  return mask"
   ]
  },
  {
   "cell_type": "code",
   "execution_count": null,
   "metadata": {
    "colab": {},
    "colab_type": "code",
    "id": "yrwXVue4_iee"
   },
   "outputs": [],
   "source": [
    "def get_road_color(road_type):\n",
    "  case = {'1':(0, 255, 64),\n",
    "          '2':(255, 255, 0),\n",
    "          '3':(0, 255, 255),\n",
    "          '4':(255, 0, 0),\n",
    "          '5':(0, 128, 255),\n",
    "          '6':(255, 255, 0)\n",
    "          }\n",
    "  return case.get(road_type)"
   ]
  },
  {
   "cell_type": "code",
   "execution_count": null,
   "metadata": {
    "colab": {},
    "colab_type": "code",
    "id": "vJHlmSr2g3Vs"
   },
   "outputs": [],
   "source": [
    "def create_mask_road_type(geojson_file, raster_src):\n",
    "\n",
    "  srcRas_ds = gdal.Open(raster_src)\n",
    "  cols = srcRas_ds.RasterXSize\n",
    "  rows = srcRas_ds.RasterYSize\n",
    "\n",
    "  mask = np.zeros((rows, cols))\n",
    "  with open(geojson_file, 'r') as file:\n",
    "      geo_json = json.load(file)\n",
    "      with rasterio.open(raster_src) as map_image:\n",
    "          for road in geo_json['features']:\n",
    "              polys = list()\n",
    "              road_type = road['properties']['road_type']\n",
    "              geometry = road['geometry']\n",
    "              if geometry['type'] == \"MultiLineString\":\n",
    "                  points = np.array(geometry['coordinates'][0])\n",
    "\n",
    "              else:\n",
    "                  points = np.array(geometry['coordinates'])\n",
    "\n",
    "              for point in points:\n",
    "                  coords = map_image.index(point[0], point[1])\n",
    "                  polys.append([coords[1], coords[0]])\n",
    "                  cv2.polylines(mask, np.int32([polys]), False, get_road_color(road_type), thickness = 3)\n",
    "\n",
    "  return mask"
   ]
  },
  {
   "cell_type": "code",
   "execution_count": null,
   "metadata": {
    "colab": {},
    "colab_type": "code",
    "id": "iKu63kZf1Nmw"
   },
   "outputs": [],
   "source": [
    "#sample data\n",
    "image = image_path + 'SN3_roads_train_AOI_2_Vegas_MS_img100.tif'\n",
    "geojson = geojson_path + 'SN3_roads_train_AOI_2_Vegas_geojson_roads_img100.geojson'\n",
    "geojson_speed = geojson_speed_path + 'SN3_roads_train_AOI_2_Vegas_geojson_roads_speed_img100.geojson'"
   ]
  },
  {
   "cell_type": "code",
   "execution_count": null,
   "metadata": {
    "colab": {
     "base_uri": "https://localhost:8080/",
     "height": 286
    },
    "colab_type": "code",
    "id": "y7gpAFK-GHyl",
    "outputId": "65ebed3a-e74a-47aa-e620-15a94cf8a932"
   },
   "outputs": [],
   "source": [
    "show_raster(image)"
   ]
  },
  {
   "cell_type": "code",
   "execution_count": null,
   "metadata": {
    "colab": {
     "base_uri": "https://localhost:8080/",
     "height": 286
    },
    "colab_type": "code",
    "id": "1tRyGLUv1A_m",
    "outputId": "7283b18d-8200-41de-8902-11711e1d565c"
   },
   "outputs": [],
   "source": [
    "mask = create_mask(geojson, image)\n",
    "plt.imshow(mask)"
   ]
  },
  {
   "cell_type": "code",
   "execution_count": null,
   "metadata": {
    "colab": {
     "base_uri": "https://localhost:8080/",
     "height": 304
    },
    "colab_type": "code",
    "id": "fzDqdPTE1GN9",
    "outputId": "c40ceaa8-e4d5-4c27-ac16-54876c7140c3"
   },
   "outputs": [],
   "source": [
    "mask_lane = create_mask_road_lane(geojson_speed,image)\n",
    "plt.imshow(mask_lane)"
   ]
  },
  {
   "cell_type": "code",
   "execution_count": null,
   "metadata": {
    "colab": {},
    "colab_type": "code",
    "id": "IM0hGggE1J7S"
   },
   "outputs": [],
   "source": [
    "mask_type = create_mask_road_type(geojson, image)\n",
    "plt.imshow(mask_type)"
   ]
  },
  {
   "cell_type": "code",
   "execution_count": null,
   "metadata": {
    "colab": {},
    "colab_type": "code",
    "id": "Q-7OJ0xSJNoF"
   },
   "outputs": [],
   "source": [
    "#create road lane mask\n",
    "count = 0\n",
    "missing = list()\n",
    "image_path = '/content/drive/My Drive/spacenet-data/data/'\n",
    "mask_path = '/content/drive/My Drive/spacenet-data/mask_lane/'\n",
    "for image_name in image_list:\n",
    "  try:\n",
    "    geojson_name = image_name.replace(\"MS\", \"geojson_roads_speed\").replace(\"tif\", \"geojson\")\n",
    "    mask = create_mask_road_lane(geojson_speed_path + geojson_name, image_path + image_name)\n",
    "    mask_name = image_name.replace(\"MS\", \"mask_width\").replace(\"tif\", \"npy\")\n",
    "    print(f\"{count} {image_name}\")\n",
    "    np.save(mask_path+mask_name, mask)\n",
    "    count += 1\n",
    "  except Exception as e:\n",
    "    print(\"Error \"+str(e))\n",
    "    missing.append(image_name)\n",
    "    pass\n",
    " "
   ]
  },
  {
   "cell_type": "code",
   "execution_count": null,
   "metadata": {
    "colab": {},
    "colab_type": "code",
    "id": "L02cudG6qywu"
   },
   "outputs": [],
   "source": [
    "def display_mask(image_name):\n",
    "    fig, (ax1, ax2) = plt.subplots(nrows = 1, ncols = 2, figsize = (10, 10))\n",
    "    raster = rasterio.open('/content/drive/My Drive/spacenet-data/data/' + image_name)\n",
    "    ax1.imshow(raster.read(1), cmap = 'pink')\n",
    "    ax1.set_title('Raster Image')\n",
    "    ax2.imshow(np.load('/content/drive/My Drive/spacenet-data/mask_lane/' + image_name.replace(\"MS\", \"mask\").replace(\".tif\", \".npy\")))\n",
    "    ax2.set_title('Mask')\n",
    "    plt.show()"
   ]
  },
  {
   "cell_type": "code",
   "execution_count": null,
   "metadata": {
    "colab": {
     "base_uri": "https://localhost:8080/",
     "height": 1000
    },
    "colab_type": "code",
    "id": "1DclK8T8r24N",
    "outputId": "fc99d639-89bb-4c67-dee7-f5056709b09a",
    "scrolled": false
   },
   "outputs": [],
   "source": [
    "for image in image_list:\n",
    "  display_mask(image)"
   ]
  },
  {
   "cell_type": "code",
   "execution_count": null,
   "metadata": {
    "colab": {},
    "colab_type": "code",
    "id": "xDdQSZyKTe3-"
   },
   "outputs": [],
   "source": []
  }
 ],
 "metadata": {
  "accelerator": "GPU",
  "colab": {
   "collapsed_sections": [],
   "name": "road_imaging.ipynb",
   "provenance": []
  },
  "kernelspec": {
   "display_name": "Python 3",
   "language": "python",
   "name": "python3"
  },
  "language_info": {
   "codemirror_mode": {
    "name": "ipython",
    "version": 3
   },
   "file_extension": ".py",
   "mimetype": "text/x-python",
   "name": "python",
   "nbconvert_exporter": "python",
   "pygments_lexer": "ipython3",
   "version": "3.7.5"
  }
 },
 "nbformat": 4,
 "nbformat_minor": 1
}
