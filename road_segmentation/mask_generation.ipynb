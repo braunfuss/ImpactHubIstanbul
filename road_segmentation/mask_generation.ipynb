{
 "cells": [
  {
   "cell_type": "code",
   "execution_count": null,
   "metadata": {
    "colab": {},
    "colab_type": "code",
    "id": "1TBd8wLDmqkV"
   },
   "outputs": [],
   "source": [
    "!pip install rasterio"
   ]
  },
  {
   "cell_type": "code",
   "execution_count": null,
   "metadata": {
    "colab": {},
    "colab_type": "code",
    "id": "R3N4b91jdX5G"
   },
   "outputs": [],
   "source": [
    "import gdal\n",
    "from osgeo import ogr\n",
    "import numpy as np\n",
    "from PIL import Image\n",
    "from matplotlib import pyplot as plt\n",
    "import json\n",
    "import rasterio\n",
    "from shapely.geometry import LineString, Polygon, shape\n",
    "import cv2\n",
    "import os"
   ]
  },
  {
   "cell_type": "code",
   "execution_count": null,
   "metadata": {
    "colab": {
     "base_uri": "https://localhost:8080/",
     "height": 124
    },
    "colab_type": "code",
    "id": "rv4AAaJ5IIyr",
    "outputId": "18cfa730-b6a2-4930-c97c-c29f721ad074"
   },
   "outputs": [],
   "source": [
    "from google.colab import drive\n",
    "drive.mount('/content/drive')\n",
    "drive_path = \"/content/drive/My Drive/spacenet-data/\"\n",
    "image_path = drive_path + 'data/'\n",
    "geojson_path = drive_pth + 'geojson_roads/'\n",
    "mask_path = drive_Path + 'mask/'"
   ]
  },
  {
   "cell_type": "code",
   "execution_count": null,
   "metadata": {
    "colab": {},
    "colab_type": "code",
    "id": "K7yvi5pdtY_A"
   },
   "outputs": [],
   "source": [
    "#installing aws cli\n",
    "!curl \"https://d1vvhvl2y92vvt.cloudfront.net/awscli-exe-linux-x86_64.zip\" -o \"awscliv2.zip\"\n",
    "!unzip awscliv2.zip\n",
    "!sudo ./aws/install"
   ]
  },
  {
   "cell_type": "code",
   "execution_count": null,
   "metadata": {
    "colab": {},
    "colab_type": "code",
    "id": "TeQNrsZov9As"
   },
   "outputs": [],
   "source": [
    "#download tif from AWS\n",
    "!/usr/local/bin/aws2 s3api get-object --bucket spacenet-dataset \\\n",
    "    --key spacenet/SN3_roads/train/AOI_2_Vegas/MS/SN3_roads_train_AOI_2_Vegas_MS_img100.tif \\\n",
    "    --request-payer requester SN3_roads_train_AOI_2_Vegas_PS-MS_img100.tif"
   ]
  },
  {
   "cell_type": "code",
   "execution_count": null,
   "metadata": {
    "colab": {},
    "colab_type": "code",
    "id": "wFqXycF6uvRm"
   },
   "outputs": [],
   "source": [
    "#download roads ge0json from AWS\n",
    "!/usr/local/bin/aws2 s3api get-object --bucket spacenet-dataset \\\n",
    "    --key spacenet/SN3_roads/train/AOI_2_Vegas/geojson_roads/SN3_roads_train_AOI_2_Vegas_geojson_roads_img10.geojson \\\n",
    "    --request-payer requester SN3_roads_train_AOI_2_Vegas_geojson_roads_img10.geojson"
   ]
  },
  {
   "cell_type": "code",
   "execution_count": null,
   "metadata": {
    "colab": {},
    "colab_type": "code",
    "id": "vJHlmSr2g3Vs"
   },
   "outputs": [],
   "source": [
    "def create_mask_new(geojson_file, raster_src):\n",
    "\n",
    "    srcRas_ds = gdal.Open(raster_src)\n",
    "    cols = srcRas_ds.RasterXSize\n",
    "    rows = srcRas_ds.RasterYSize\n",
    "\n",
    "    mask = np.zeros((rows, cols))\n",
    "    with open(geojson_file, 'r') as file:\n",
    "    geo_json = json.load(file)\n",
    "    with rasterio.open(raster_src) as map_image:\n",
    "    for road in geo_json['features']:\n",
    "        polys = list()\n",
    "        geometry = road['geometry']\n",
    "        if geometry['type'] == \"MultiLineString\":\n",
    "            points = np.array(geometry['coordinates'][0])\n",
    "\n",
    "        else:\n",
    "            points = np.array(geometry['coordinates'])\n",
    "\n",
    "        for point in points:\n",
    "            coords = map_image.index(point[0], point[1])\n",
    "            polys.append([coords[1], coords[0]])\n",
    "            cv2.polylines(mask, np.int32([polys]), False, get_road_color(road_value), thickness = 2)\n",
    "\n",
    "\n",
    "    mask = mask.astype(bool)\n",
    "    return mask"
   ]
  },
  {
   "cell_type": "code",
   "execution_count": null,
   "metadata": {
    "colab": {
     "base_uri": "https://localhost:8080/",
     "height": 286
    },
    "colab_type": "code",
    "id": "Dx6rCkD6hqSe",
    "outputId": "da974e77-5152-4ad3-9fa4-ee82f68fd37f"
   },
   "outputs": [],
   "source": [
    "mask = create_mask_new('SN3_roads_train_AOI_2_Vegas_geojson_roads_img100.geojson', 'SN3_roads_train_AOI_2_Vegas_MS_img100.tif')\n",
    "plt.imshow(mask)"
   ]
  },
  {
   "cell_type": "code",
   "execution_count": null,
   "metadata": {
    "colab": {
     "base_uri": "https://localhost:8080/",
     "height": 286
    },
    "colab_type": "code",
    "id": "ZQHxyibIY1nP",
    "outputId": "9e79f98c-be98-49f5-fc87-8d9f15d2e63c",
    "scrolled": true
   },
   "outputs": [],
   "source": [
    "show_raster('SN3_roads_train_AOI_2_Vegas_MS_img100.tif')"
   ]
  },
  {
   "cell_type": "code",
   "execution_count": null,
   "metadata": {
    "colab": {},
    "colab_type": "code",
    "id": "OH_F4eh0a3lu"
   },
   "outputs": [],
   "source": [
    "import pandas as pd\n",
    "data = pd.read_csv('vegas_ms_list.txt', header = None)\n",
    "image_list = data[3]\n",
    "image_list = image_list.values"
   ]
  },
  {
   "cell_type": "code",
   "execution_count": null,
   "metadata": {
    "colab": {},
    "colab_type": "code",
    "id": "jcn9sf-bbDtW"
   },
   "outputs": [],
   "source": [
    "missing = list()\n",
    "for image_name in image_list[900:]:\n",
    "    try:\n",
    "        geojson_name = image_name.replace(\"MS\", \"geojson_roads\").replace(\"tif\", \"geojson\")\n",
    "        mask = create_mask_new(geojson_path + geojson_name, image_path + image_name)\n",
    "        mask_name = image_name.replace(\"MS\", \"mask\").replace(\"tif\", \"npy\")\n",
    "        print(f\"{count} {image_name} {geojson_name} {mask_name}\")\n",
    "        np.save(mask_path+mask_name, mask)\n",
    "        count += 1\n",
    "    except Exception:\n",
    "        print(\"Error \"+str(Exception))\n",
    "        missing.append(image_name)\n",
    "        pass"
   ]
  },
  {
   "cell_type": "code",
   "execution_count": null,
   "metadata": {},
   "outputs": [],
   "source": [
    "for item in missing:\n",
    "    print(item)"
   ]
  },
  {
   "cell_type": "markdown",
   "metadata": {},
   "source": [
    "<h3>Improvements to be made:</h3><br>\n",
    "    <h4>Include road type(which I guess can reveal info about road width) and speed limits into the mask.</h4>"
   ]
  },
  {
   "cell_type": "code",
   "execution_count": null,
   "metadata": {},
   "outputs": [],
   "source": []
  }
 ],
 "metadata": {
  "accelerator": "GPU",
  "colab": {
   "collapsed_sections": [],
   "name": "road_imaging.ipynb",
   "provenance": []
  },
  "kernelspec": {
   "display_name": "Python 3",
   "language": "python",
   "name": "python3"
  },
  "language_info": {
   "codemirror_mode": {
    "name": "ipython",
    "version": 3
   },
   "file_extension": ".py",
   "mimetype": "text/x-python",
   "name": "python",
   "nbconvert_exporter": "python",
   "pygments_lexer": "ipython3",
   "version": "3.7.5"
  }
 },
 "nbformat": 4,
 "nbformat_minor": 1
}
